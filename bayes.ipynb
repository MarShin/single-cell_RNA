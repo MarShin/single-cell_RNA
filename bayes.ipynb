{
 "cells": [
  {
   "cell_type": "code",
   "execution_count": 13,
   "metadata": {},
   "outputs": [],
   "source": [
    "from keras.models import load_model\n",
    "import matplotlib.pyplot as plt\n",
    "import numpy as np\n",
    "import time\n",
    "import pandas as pd\n",
    "from sklearn.model_selection import train_test_split\n",
    "from IPython.display import display\n",
    "\n",
    "# import data_handler as dh\n",
    "\n",
    "# x_train, x_test = dh.load_data()\n",
    "X = np.load('data/X_multiplied.npy')\n",
    "y = np.load('data/y_multiplied.npy')\n",
    "\n"
   ]
  },
  {
   "cell_type": "code",
   "execution_count": 4,
   "metadata": {},
   "outputs": [
    {
     "name": "stdout",
     "output_type": "stream",
     "text": [
      "(2016, 20713)\n",
      "(2016, 1)\n"
     ]
    }
   ],
   "source": [
    "print X.shape\n",
    "print y.shape"
   ]
  },
  {
   "cell_type": "code",
   "execution_count": 7,
   "metadata": {},
   "outputs": [
    {
     "name": "stdout",
     "output_type": "stream",
     "text": [
      "loading autoencoder\n",
      "('Model loaded in: ', 9.176295042037964)\n"
     ]
    }
   ],
   "source": [
    "print('loading autoencoder')\n",
    "t0 = time.time()\n",
    "autoencoder = load_model('autoencoder.h5')\n",
    "t1 = time.time()\n",
    "print('Model loaded in: ', t1-t0)"
   ]
  },
  {
   "cell_type": "code",
   "execution_count": 14,
   "metadata": {
    "collapsed": true
   },
   "outputs": [],
   "source": [
    "def denoise(x):\n",
    "    print x.shape\n",
    "    denoised_x = autoencoder.predict(x)\n",
    "    print denoised_x.shape\n",
    "    return denoised_x"
   ]
  },
  {
   "cell_type": "code",
   "execution_count": 15,
   "metadata": {},
   "outputs": [
    {
     "name": "stdout",
     "output_type": "stream",
     "text": [
      "(2016, 20713)\n",
      "(2016, 20713)\n"
     ]
    }
   ],
   "source": [
    "X = denoise(X) #e10 e12.5 not same dimension as given data"
   ]
  },
  {
   "cell_type": "code",
   "execution_count": 16,
   "metadata": {},
   "outputs": [],
   "source": [
    "\n",
    "X_train, X_test, y_train, y_test = train_test_split(X, y, test_size=0.2, random_state=42)"
   ]
  },
  {
   "cell_type": "code",
   "execution_count": 18,
   "metadata": {},
   "outputs": [
    {
     "name": "stdout",
     "output_type": "stream",
     "text": [
      "(1612,)\n"
     ]
    }
   ],
   "source": [
    "y_train = y_train.ravel()\n",
    "print y_train.shape"
   ]
  },
  {
   "cell_type": "code",
   "execution_count": 19,
   "metadata": {},
   "outputs": [
    {
     "data": {
      "text/plain": [
       "GaussianNB(priors=None)"
      ]
     },
     "execution_count": 19,
     "metadata": {},
     "output_type": "execute_result"
    }
   ],
   "source": [
    "from sklearn.naive_bayes import GaussianNB\n",
    "\n",
    "clf = GaussianNB()\n",
    "clf.fit(X_train, y_train)"
   ]
  },
  {
   "cell_type": "code",
   "execution_count": 20,
   "metadata": {},
   "outputs": [
    {
     "data": {
      "text/plain": [
       "array([2, 2, 3, 2, 1, 1, 1, 1, 1, 1, 2, 1, 1, 1, 2, 2, 1, 0, 1, 2, 1, 1, 3,\n",
       "       2, 1, 1, 1, 0, 0, 2, 1, 1, 1, 2, 0, 3, 2, 1, 3, 1, 2, 0, 1, 3, 0, 0,\n",
       "       1, 2, 2, 2, 0, 0, 3, 2, 1, 1, 2, 1, 1, 0, 1, 0, 2, 1, 2, 0, 0, 2, 2,\n",
       "       0, 2, 0, 1, 2, 0, 1, 2, 2, 2, 0, 2, 3, 1, 2, 0, 2, 2, 0, 2, 1, 1, 3,\n",
       "       2, 1, 0, 1, 1, 1, 1, 1, 1, 0, 1, 2, 0, 2, 2, 0, 0, 2, 0, 3, 1, 3, 0,\n",
       "       1, 0, 0, 1, 1, 2, 2, 0, 0, 3, 3, 1, 2, 2, 1, 2, 3, 3, 0, 0, 1, 1, 0,\n",
       "       2, 1, 2, 1, 1, 3, 0, 1, 2, 2, 3, 2, 0, 2, 2, 2, 2, 1, 2, 1, 1, 0, 1,\n",
       "       3, 0, 2, 0, 0, 2, 0, 0, 1, 3, 0, 1, 2, 0, 0, 2, 2, 0, 1, 2, 0, 2, 1,\n",
       "       3, 1, 2, 3, 1, 1, 1, 0, 0, 2, 1, 2, 2, 1, 0, 1, 2, 1, 1, 1, 0, 1, 1,\n",
       "       0, 0, 2, 1, 1, 0, 3, 1, 2, 0, 1, 3, 0, 2, 0, 0, 1, 2, 3, 2, 2, 0, 1,\n",
       "       2, 3, 0, 2, 2, 2, 2, 1, 1, 1, 0, 2, 2, 1, 1, 3, 0, 2, 1, 2, 2, 1, 1,\n",
       "       0, 0, 1, 1, 0, 1, 2, 0, 3, 0, 0, 2, 1, 0, 1, 1, 2, 2, 1, 0, 0, 3, 3,\n",
       "       2, 1, 1, 0, 1, 3, 3, 0, 0, 1, 1, 1, 1, 0, 0, 3, 3, 1, 1, 0, 2, 0, 1,\n",
       "       2, 1, 2, 1, 0, 3, 0, 0, 0, 0, 2, 2, 2, 2, 2, 0, 1, 3, 3, 1, 2, 2, 3,\n",
       "       0, 2, 3, 0, 2, 1, 2, 1, 2, 2, 1, 3, 0, 0, 3, 3, 1, 1, 0, 2, 3, 2, 1,\n",
       "       0, 0, 1, 0, 0, 0, 1, 0, 2, 0, 2, 0, 2, 2, 0, 2, 0, 2, 3, 0, 2, 0, 0,\n",
       "       1, 2, 2, 2, 1, 2, 0, 3, 0, 1, 3, 2, 1, 2, 0, 1, 1, 2, 2, 0, 1, 2, 2,\n",
       "       1, 1, 3, 2, 0, 2, 2, 1, 3, 2, 2, 3, 2])"
      ]
     },
     "metadata": {},
     "output_type": "display_data"
    },
    {
     "name": "stdout",
     "output_type": "stream",
     "text": [
      "Test Accuracy [0.255]\n",
      "[0 1 2 3]\n"
     ]
    }
   ],
   "source": [
    "\n",
    "y_predict = clf.predict(X_test)\n",
    "display(y_predict)\n",
    "print(\"Test Accuracy [%0.3f]\" % ((y_test == y_predict).mean()))\n",
    "print np.unique(y_predict)"
   ]
  },
  {
   "cell_type": "code",
   "execution_count": null,
   "metadata": {
    "collapsed": true
   },
   "outputs": [],
   "source": []
  }
 ],
 "metadata": {
  "kernelspec": {
   "display_name": "Python 2",
   "language": "python",
   "name": "python2"
  },
  "language_info": {
   "codemirror_mode": {
    "name": "ipython",
    "version": 2
   },
   "file_extension": ".py",
   "mimetype": "text/x-python",
   "name": "python",
   "nbconvert_exporter": "python",
   "pygments_lexer": "ipython2",
   "version": "2.7.13"
  }
 },
 "nbformat": 4,
 "nbformat_minor": 2
}

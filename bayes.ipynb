{
 "cells": [
  {
   "cell_type": "code",
   "execution_count": 2,
   "metadata": {},
   "outputs": [
    {
     "name": "stderr",
     "output_type": "stream",
     "text": [
      "Using TensorFlow backend.\n"
     ]
    }
   ],
   "source": [
    "from keras.models import load_model\n",
    "import matplotlib.pyplot as plt\n",
    "import numpy as np\n",
    "import time\n",
    "import pandas as pd\n",
    "from IPython.display import display\n",
    "\n",
    "import data_handler as dh\n",
    "\n",
    "x_train, x_test = dh.load_data()"
   ]
  },
  {
   "cell_type": "code",
   "execution_count": 3,
   "metadata": {},
   "outputs": [
    {
     "name": "stdout",
     "output_type": "stream",
     "text": [
      "loading autoencoder\n",
      "('Model loaded in: ', 6.628257989883423)\n"
     ]
    }
   ],
   "source": [
    "print('loading autoencoder')\n",
    "t0 = time.time()\n",
    "autoencoder = load_model('autoencoder.h5')\n",
    "t1 = time.time()\n",
    "print('Model loaded in: ', t1-t0)"
   ]
  },
  {
   "cell_type": "code",
   "execution_count": 4,
   "metadata": {
    "collapsed": true
   },
   "outputs": [],
   "source": [
    "\n",
    "original_data = np.append(x_train, x_test, axis=0)\n",
    "\n",
    "df_e10 = pd.read_csv('data/e10_1.csv')\n",
    "df_e12 = pd.read_csv('data/e12_1.csv')\n",
    "df_e12label = pd.read_csv('data/cell_identity.csv')\n",
    "df_e12 = pd.concat([df_e12, df_e12label['label']], axis=1, join='inner')"
   ]
  },
  {
   "cell_type": "code",
   "execution_count": 7,
   "metadata": {
    "collapsed": true
   },
   "outputs": [],
   "source": [
    "from sklearn.preprocessing import MinMaxScaler, StandardScaler\n",
    "predictors = [x for x in df_e12.columns if x not in ['cell_name', 'label']]\n",
    "scaler = StandardScaler()\n",
    "df_e10_scaled = scaler.fit_transform(df_e10[predictors])\n",
    "df_e12_scaled = scaler.fit_transform(df_e12[predictors])"
   ]
  },
  {
   "cell_type": "code",
   "execution_count": 8,
   "metadata": {},
   "outputs": [
    {
     "data": {
      "text/plain": [
       "array(['progenitor', 'adipo.dermal', 'adipo.dermal', 'adipo.dermal',\n",
       "       'progenitor', 'progenitor', 'progenitor', 'adipo.dermal',\n",
       "       'progenitor', 'adipo.dermal', 'progenitor', 'progenitor',\n",
       "       'progenitor', 'progenitor', 'adipo.dermal', 'progenitor',\n",
       "       'progenitor', 'progenitor', 'progenitor', 'adipo.dermal',\n",
       "       'progenitor', 'progenitor', 'progenitor', 'progenitor',\n",
       "       'progenitor', 'progenitor', 'progenitor', 'progenitor',\n",
       "       'adipo.dermal', 'adipo.dermal', 'progenitor', 'adipo.dermal',\n",
       "       'adipo.dermal', 'progenitor', 'progenitor', 'progenitor',\n",
       "       'progenitor', 'progenitor', 'progenitor', 'progenitor',\n",
       "       'progenitor', 'progenitor', 'adipo.dermal', 'progenitor',\n",
       "       'progenitor', 'adipo.dermal', 'adipo.dermal', 'adipo.dermal',\n",
       "       'progenitor', 'progenitor', 'progenitor', 'progenitor',\n",
       "       'progenitor', 'progenitor', 'progenitor', 'progenitor',\n",
       "       'progenitor', 'progenitor', 'progenitor', 'adipo.dermal',\n",
       "       'progenitor', 'progenitor', 'progenitor', 'adipo.dermal',\n",
       "       'adipo.dermal', 'progenitor', 'progenitor', 'adipo.dermal',\n",
       "       'neuron', 'progenitor', 'progenitor', 'adipo.dermal', 'progenitor',\n",
       "       'progenitor', 'progenitor', 'progenitor', 'progenitor',\n",
       "       'progenitor', 'progenitor', 'progenitor', 'progenitor'],\n",
       "      dtype='|S12')"
      ]
     },
     "metadata": {},
     "output_type": "display_data"
    },
    {
     "name": "stdout",
     "output_type": "stream",
     "text": [
      "['adipo.dermal' 'neuron' 'progenitor']\n"
     ]
    }
   ],
   "source": [
    "from sklearn.naive_bayes import GaussianNB\n",
    "def bayes():\n",
    "    clf = GaussianNB()\n",
    "\n",
    "    clf.fit(df_e12_scaled, df_e12.label)\n",
    "    e10_prediction = clf.predict(df_e10[predictors])\n",
    "    display(e10_prediction)\n",
    "    print np.unique(e10_prediction)\n",
    "bayes()"
   ]
  },
  {
   "cell_type": "code",
   "execution_count": null,
   "metadata": {
    "collapsed": true
   },
   "outputs": [],
   "source": []
  }
 ],
 "metadata": {
  "kernelspec": {
   "display_name": "Python 2",
   "language": "python",
   "name": "python2"
  },
  "language_info": {
   "codemirror_mode": {
    "name": "ipython",
    "version": 2
   },
   "file_extension": ".py",
   "mimetype": "text/x-python",
   "name": "python",
   "nbconvert_exporter": "python",
   "pygments_lexer": "ipython2",
   "version": "2.7.13"
  }
 },
 "nbformat": 4,
 "nbformat_minor": 2
}
